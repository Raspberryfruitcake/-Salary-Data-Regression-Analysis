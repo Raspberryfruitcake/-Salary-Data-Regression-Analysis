{
  "nbformat": 4,
  "nbformat_minor": 0,
  "metadata": {
    "colab": {
      "provenance": []
    },
    "kernelspec": {
      "name": "python3",
      "display_name": "Python 3"
    },
    "language_info": {
      "name": "python"
    }
  },
  "cells": [
    {
      "cell_type": "code",
      "execution_count": 109,
      "metadata": {
        "id": "SmzrHdV7cTvN"
      },
      "outputs": [],
      "source": [
        "import pandas as pd\n",
        "import numpy as np\n",
        "import matplotlib.pyplot as plt\n",
        "from sklearn.model_selection import train_test_split\n",
        "from math import pow"
      ]
    },
    {
      "cell_type": "code",
      "source": [
        "data=pd.read_csv('Salary_Data.csv')"
      ],
      "metadata": {
        "id": "G5lee1F5yL4n"
      },
      "execution_count": 2,
      "outputs": []
    },
    {
      "cell_type": "code",
      "source": [
        "data.head(10)"
      ],
      "metadata": {
        "colab": {
          "base_uri": "https://localhost:8080/",
          "height": 363
        },
        "id": "gMCI56zByS0V",
        "outputId": "f9572892-268b-405b-ccd3-dbe2e0a31af3"
      },
      "execution_count": 18,
      "outputs": [
        {
          "output_type": "execute_result",
          "data": {
            "text/plain": [
              "   YearsExperience   Salary\n",
              "0              1.1  39343.0\n",
              "1              1.3  46205.0\n",
              "2              1.5  37731.0\n",
              "3              2.0  43525.0\n",
              "4              2.2  39891.0\n",
              "5              2.9  56642.0\n",
              "6              3.0  60150.0\n",
              "7              3.2  54445.0\n",
              "8              3.2  64445.0\n",
              "9              3.7  57189.0"
            ],
            "text/html": [
              "\n",
              "  <div id=\"df-cb8a3651-d082-457c-85e3-c9186f8b955e\">\n",
              "    <div class=\"colab-df-container\">\n",
              "      <div>\n",
              "<style scoped>\n",
              "    .dataframe tbody tr th:only-of-type {\n",
              "        vertical-align: middle;\n",
              "    }\n",
              "\n",
              "    .dataframe tbody tr th {\n",
              "        vertical-align: top;\n",
              "    }\n",
              "\n",
              "    .dataframe thead th {\n",
              "        text-align: right;\n",
              "    }\n",
              "</style>\n",
              "<table border=\"1\" class=\"dataframe\">\n",
              "  <thead>\n",
              "    <tr style=\"text-align: right;\">\n",
              "      <th></th>\n",
              "      <th>YearsExperience</th>\n",
              "      <th>Salary</th>\n",
              "    </tr>\n",
              "  </thead>\n",
              "  <tbody>\n",
              "    <tr>\n",
              "      <th>0</th>\n",
              "      <td>1.1</td>\n",
              "      <td>39343.0</td>\n",
              "    </tr>\n",
              "    <tr>\n",
              "      <th>1</th>\n",
              "      <td>1.3</td>\n",
              "      <td>46205.0</td>\n",
              "    </tr>\n",
              "    <tr>\n",
              "      <th>2</th>\n",
              "      <td>1.5</td>\n",
              "      <td>37731.0</td>\n",
              "    </tr>\n",
              "    <tr>\n",
              "      <th>3</th>\n",
              "      <td>2.0</td>\n",
              "      <td>43525.0</td>\n",
              "    </tr>\n",
              "    <tr>\n",
              "      <th>4</th>\n",
              "      <td>2.2</td>\n",
              "      <td>39891.0</td>\n",
              "    </tr>\n",
              "    <tr>\n",
              "      <th>5</th>\n",
              "      <td>2.9</td>\n",
              "      <td>56642.0</td>\n",
              "    </tr>\n",
              "    <tr>\n",
              "      <th>6</th>\n",
              "      <td>3.0</td>\n",
              "      <td>60150.0</td>\n",
              "    </tr>\n",
              "    <tr>\n",
              "      <th>7</th>\n",
              "      <td>3.2</td>\n",
              "      <td>54445.0</td>\n",
              "    </tr>\n",
              "    <tr>\n",
              "      <th>8</th>\n",
              "      <td>3.2</td>\n",
              "      <td>64445.0</td>\n",
              "    </tr>\n",
              "    <tr>\n",
              "      <th>9</th>\n",
              "      <td>3.7</td>\n",
              "      <td>57189.0</td>\n",
              "    </tr>\n",
              "  </tbody>\n",
              "</table>\n",
              "</div>\n",
              "      <button class=\"colab-df-convert\" onclick=\"convertToInteractive('df-cb8a3651-d082-457c-85e3-c9186f8b955e')\"\n",
              "              title=\"Convert this dataframe to an interactive table.\"\n",
              "              style=\"display:none;\">\n",
              "        \n",
              "  <svg xmlns=\"http://www.w3.org/2000/svg\" height=\"24px\"viewBox=\"0 0 24 24\"\n",
              "       width=\"24px\">\n",
              "    <path d=\"M0 0h24v24H0V0z\" fill=\"none\"/>\n",
              "    <path d=\"M18.56 5.44l.94 2.06.94-2.06 2.06-.94-2.06-.94-.94-2.06-.94 2.06-2.06.94zm-11 1L8.5 8.5l.94-2.06 2.06-.94-2.06-.94L8.5 2.5l-.94 2.06-2.06.94zm10 10l.94 2.06.94-2.06 2.06-.94-2.06-.94-.94-2.06-.94 2.06-2.06.94z\"/><path d=\"M17.41 7.96l-1.37-1.37c-.4-.4-.92-.59-1.43-.59-.52 0-1.04.2-1.43.59L10.3 9.45l-7.72 7.72c-.78.78-.78 2.05 0 2.83L4 21.41c.39.39.9.59 1.41.59.51 0 1.02-.2 1.41-.59l7.78-7.78 2.81-2.81c.8-.78.8-2.07 0-2.86zM5.41 20L4 18.59l7.72-7.72 1.47 1.35L5.41 20z\"/>\n",
              "  </svg>\n",
              "      </button>\n",
              "      \n",
              "  <style>\n",
              "    .colab-df-container {\n",
              "      display:flex;\n",
              "      flex-wrap:wrap;\n",
              "      gap: 12px;\n",
              "    }\n",
              "\n",
              "    .colab-df-convert {\n",
              "      background-color: #E8F0FE;\n",
              "      border: none;\n",
              "      border-radius: 50%;\n",
              "      cursor: pointer;\n",
              "      display: none;\n",
              "      fill: #1967D2;\n",
              "      height: 32px;\n",
              "      padding: 0 0 0 0;\n",
              "      width: 32px;\n",
              "    }\n",
              "\n",
              "    .colab-df-convert:hover {\n",
              "      background-color: #E2EBFA;\n",
              "      box-shadow: 0px 1px 2px rgba(60, 64, 67, 0.3), 0px 1px 3px 1px rgba(60, 64, 67, 0.15);\n",
              "      fill: #174EA6;\n",
              "    }\n",
              "\n",
              "    [theme=dark] .colab-df-convert {\n",
              "      background-color: #3B4455;\n",
              "      fill: #D2E3FC;\n",
              "    }\n",
              "\n",
              "    [theme=dark] .colab-df-convert:hover {\n",
              "      background-color: #434B5C;\n",
              "      box-shadow: 0px 1px 3px 1px rgba(0, 0, 0, 0.15);\n",
              "      filter: drop-shadow(0px 1px 2px rgba(0, 0, 0, 0.3));\n",
              "      fill: #FFFFFF;\n",
              "    }\n",
              "  </style>\n",
              "\n",
              "      <script>\n",
              "        const buttonEl =\n",
              "          document.querySelector('#df-cb8a3651-d082-457c-85e3-c9186f8b955e button.colab-df-convert');\n",
              "        buttonEl.style.display =\n",
              "          google.colab.kernel.accessAllowed ? 'block' : 'none';\n",
              "\n",
              "        async function convertToInteractive(key) {\n",
              "          const element = document.querySelector('#df-cb8a3651-d082-457c-85e3-c9186f8b955e');\n",
              "          const dataTable =\n",
              "            await google.colab.kernel.invokeFunction('convertToInteractive',\n",
              "                                                     [key], {});\n",
              "          if (!dataTable) return;\n",
              "\n",
              "          const docLinkHtml = 'Like what you see? Visit the ' +\n",
              "            '<a target=\"_blank\" href=https://colab.research.google.com/notebooks/data_table.ipynb>data table notebook</a>'\n",
              "            + ' to learn more about interactive tables.';\n",
              "          element.innerHTML = '';\n",
              "          dataTable['output_type'] = 'display_data';\n",
              "          await google.colab.output.renderOutput(dataTable, element);\n",
              "          const docLink = document.createElement('div');\n",
              "          docLink.innerHTML = docLinkHtml;\n",
              "          element.appendChild(docLink);\n",
              "        }\n",
              "      </script>\n",
              "    </div>\n",
              "  </div>\n",
              "  "
            ]
          },
          "metadata": {},
          "execution_count": 18
        }
      ]
    },
    {
      "cell_type": "markdown",
      "source": [
        "# Visualising the Data"
      ],
      "metadata": {
        "id": "uW_btmAuRUi6"
      }
    },
    {
      "cell_type": "code",
      "source": [
        "X=np.array(data['YearsExperience'])\n",
        "Y=np.array(data['Salary'])"
      ],
      "metadata": {
        "id": "R-izgzijyUP4"
      },
      "execution_count": 12,
      "outputs": []
    },
    {
      "cell_type": "code",
      "source": [
        "plt.scatter(X, Y)\n",
        "\n",
        "plt.xlabel('Years of Experience')\n",
        "plt.ylabel('Salary')\n",
        "plt.title('Scatter Plot')\n",
        "\n",
        "plt.show()"
      ],
      "metadata": {
        "colab": {
          "base_uri": "https://localhost:8080/",
          "height": 472
        },
        "id": "x4fJ7pQzyrtJ",
        "outputId": "55bf1d9c-7971-4ab3-f1cd-a760853d8666"
      },
      "execution_count": 14,
      "outputs": [
        {
          "output_type": "display_data",
          "data": {
            "text/plain": [
              "<Figure size 640x480 with 1 Axes>"
            ],
            "image/png": "[encoded data removed]"
          },
          "metadata": {}
        }
      ]
    },
    {
      "cell_type": "markdown",
      "source": [
        "# Defining the Linear Regression Model and Other Important Functions"
      ],
      "metadata": {
        "id": "mQn6uifqRKXl"
      }
    },
    {
      "cell_type": "code",
      "source": [
        "def mse_score(m,b,points):\n",
        "\n",
        "  ss=0\n",
        "\n",
        "  n=len(points)\n",
        "  for i in range(n):\n",
        "    x=points.iloc[i].YearsExperience\n",
        "    y=points.iloc[i].Salary\n",
        "\n",
        "    ss=ss+pow((y-(m*x+b)),2)\n",
        "  \n",
        "  mse=ss/float(n)\n",
        "  return mse"
      ],
      "metadata": {
        "id": "dw_E5oBJza6a"
      },
      "execution_count": 163,
      "outputs": []
    },
    {
      "cell_type": "code",
      "source": [
        "def r2_score(m,b,points):\n",
        "\n",
        "  y_mean=np.mean(points['Salary'])\n",
        "  rss=0\n",
        "  tss=0\n",
        "  n=len(points)\n",
        "\n",
        "  for i in range(n):\n",
        "    x=points.iloc[i].YearsExperience\n",
        "    y=points.iloc[i].Salary  \n",
        "\n",
        "    rss+=pow((y-(m*x+b)),2)\n",
        "    tss+=pow((y-y_mean),2)\n",
        "  \n",
        "  r2 = 1 - (rss/tss)\n",
        "  \n",
        "  return r2"
      ],
      "metadata": {
        "id": "i3g8F_iqSVKm"
      },
      "execution_count": 164,
      "outputs": []
    },
    {
      "cell_type": "code",
      "source": [
        "def mae_score(m,b,points):\n",
        "\n",
        "  abs_diff=0\n",
        "  n=len(points)\n",
        "\n",
        "  for i in range(n):\n",
        "\n",
        "    x=points.iloc[i].YearsExperience\n",
        "    y=points.iloc[i].Salary  \n",
        "\n",
        "    abs_diff+=abs(y-(m*x+b))\n",
        "\n",
        "  mae=abs_diff/float(n)\n",
        "\n",
        "  return mae"
      ],
      "metadata": {
        "id": "5b650DZPUU35"
      },
      "execution_count": 165,
      "outputs": []
    },
    {
      "cell_type": "code",
      "source": [
        "def rmse_score(m,b,points):\n",
        "  \n",
        "  mse=mse_score(m,b,points)\n",
        "\n",
        "  rmse=pow(mse,0.5)\n",
        "\n",
        "  return rmse"
      ],
      "metadata": {
        "id": "AJMoxb07V3WL"
      },
      "execution_count": 166,
      "outputs": []
    },
    {
      "cell_type": "code",
      "source": [
        "def Linear_Regression(points, epochs, lr):\n",
        "  \n",
        "  m=0\n",
        "  b=0\n",
        "  n=len(points)\n",
        "\n",
        "  for i in range(epochs):\n",
        "\n",
        "    grad_m=0\n",
        "    grad_b=0\n",
        "\n",
        "    for j in range(n):\n",
        "\n",
        "      x=points.iloc[j].YearsExperience\n",
        "      y=points.iloc[j].Salary\n",
        "\n",
        "      grad_m+=-((2/n)*(x)*(y-(m*x+b)))\n",
        "      grad_b+=-((2/n)*(y-(m*x+b)))\n",
        "    \n",
        "    m=m-(lr*grad_m)\n",
        "    b=b-(lr*grad_b)\n",
        "  \n",
        "  print(\"Slope of the Regression Line:\",m)\n",
        "  print(\"Intercept of the Regression Line:\",b)\n",
        "  print()\n",
        "  print(\"Mean Squared Error for Training Dataset:\",mse_score(m,b,points))\n",
        "  print(\"R2 Score for the Training Dataset:\", r2_score(m,b,points))\n",
        "  print(\"Mean Absolute Error Score for the Training Dataset:\", mae_score(m,b,points))\n",
        "  print(\"Root Mean Squared Error for Training Dataset:\",rmse_score(m,b,points))\n",
        "\n",
        "\n",
        "  return [m,b]\n"
      ],
      "metadata": {
        "id": "Re4rg1tl8CGJ"
      },
      "execution_count": 167,
      "outputs": []
    },
    {
      "cell_type": "code",
      "source": [
        "def model_evaluate(points, parameters):\n",
        "\n",
        "  print(\"For the Test Dataset:\\n\")\n",
        "  print(\"MSE:\",mse_score(parameters[0], parameters[1], points))\n",
        "  print(\"R2:\", r2_score(parameters[0],parameters[1],points))\n",
        "  print(\"MAE:\", mae_score(parameters[0],parameters[1],points))\n",
        "  print(\"RMSE:\", rmse_score(parameters[0],parameters[1],points))\n",
        "\n"
      ],
      "metadata": {
        "id": "phCgvyWlEDkz"
      },
      "execution_count": 168,
      "outputs": []
    },
    {
      "cell_type": "code",
      "source": [
        "def model_plot(model, X_train, X_test, y_train, y_test):\n",
        "\n",
        "  plt.scatter(X_train, y_train, color='blue', label='Training Data')\n",
        "  plt.scatter(X_test, y_test, color='lightgreen', label='Test Data')\n",
        "\n",
        "\n",
        "  plt.xlabel('Years of Experience')\n",
        "  plt.ylabel('Salary')\n",
        "  plt.title('Scatter Plot')\n",
        "\n",
        "  plt.plot(X,model[0]*X+model[1], color='red', label='Regression Line')\n",
        "\n",
        "  plt.legend()\n",
        "\n",
        "  plt.show()"
      ],
      "metadata": {
        "id": "tcaAnSzYQQRg"
      },
      "execution_count": 169,
      "outputs": []
    },
    {
      "cell_type": "markdown",
      "source": [
        "## Implementing the model on Salary Data"
      ],
      "metadata": {
        "id": "A9KYEvD_QyX_"
      }
    },
    {
      "cell_type": "code",
      "source": [
        "X=data['YearsExperience']\n",
        "y=data['Salary']"
      ],
      "metadata": {
        "id": "nfSVvIyOMOSK"
      },
      "execution_count": 170,
      "outputs": []
    },
    {
      "cell_type": "code",
      "source": [
        "X_train, X_test, y_train, y_test = train_test_split(X, Y, test_size=0.3, random_state=42)"
      ],
      "metadata": {
        "id": "ZSPKI1EaNFu4"
      },
      "execution_count": 171,
      "outputs": []
    },
    {
      "cell_type": "code",
      "source": [
        "train=pd.DataFrame()\n",
        "train['YearsExperience']=X_train\n",
        "train['Salary']=y_train\n",
        "\n",
        "test=pd.DataFrame()\n",
        "test['YearsExperience']=X_test\n",
        "test['Salary']=y_test"
      ],
      "metadata": {
        "id": "aMNV970NNVJJ"
      },
      "execution_count": 172,
      "outputs": []
    },
    {
      "cell_type": "code",
      "source": [
        "model=Linear_Regression(train,epochs=1000,lr=0.01)"
      ],
      "metadata": {
        "colab": {
          "base_uri": "https://localhost:8080/"
        },
        "id": "3fNnpYf_OEGD",
        "outputId": "85d13214-edc3-4e02-adde-e6ee398374e7"
      },
      "execution_count": 173,
      "outputs": [
        {
          "output_type": "stream",
          "name": "stdout",
          "text": [
            "Slope of the Regression Line: 9372.141864857393\n",
            "Intercept of the Regression Line: 25709.221742972182\n",
            "\n",
            "Mean Squared Error for Training Dataset: 28932814.53983912\n",
            "R2 Score for the Training Dataset: 0.9574370749077992\n",
            "Mean Absolute Error Score for the Training Dataset: 4438.659948278766\n",
            "Root Mean Squared Error for Training Dataset: 5378.923176606923\n"
          ]
        }
      ]
    },
    {
      "cell_type": "code",
      "source": [
        "model_evaluate(test, model)"
      ],
      "metadata": {
        "colab": {
          "base_uri": "https://localhost:8080/"
        },
        "id": "YK2W2O1GOovk",
        "outputId": "c50f6c46-be75-40c0-e606-ba66e6b66dce"
      },
      "execution_count": 174,
      "outputs": [
        {
          "output_type": "stream",
          "name": "stdout",
          "text": [
            "For the Test Dataset:\n",
            "\n",
            "MSE: 37705352.03586251\n",
            "R2: 0.9415695269135353\n",
            "MAE: 5134.984786828117\n",
            "RMSE: 6140.4683889637045\n"
          ]
        }
      ]
    },
    {
      "cell_type": "code",
      "source": [
        "model_plot(model, X_train=X_train, X_test=X_test, y_train=y_train, y_test=y_test)"
      ],
      "metadata": {
        "colab": {
          "base_uri": "https://localhost:8080/",
          "height": 472
        },
        "id": "lv0qqg5cO3r4",
        "outputId": "38db4437-fc02-42cb-e713-a3647747e20b"
      },
      "execution_count": 175,
      "outputs": [
        {
          "output_type": "display_data",
          "data": {
            "text/plain": [
              "<Figure size 640x480 with 1 Axes>"
            ],
            "image/png": "[encoded data removed]"
          },
          "metadata": {}
        }
      ]
    }
  ]
}